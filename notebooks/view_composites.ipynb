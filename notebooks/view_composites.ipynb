{
 "cells": [
  {
   "cell_type": "code",
   "execution_count": null,
   "metadata": {},
   "outputs": [],
   "source": [
    "import os\n",
    "import sys\n",
    "\n",
    "import geopandas as gpd\n",
    "import matplotlib.pyplot as plt\n",
    "import numpy as np\n",
    "import shapely\n",
    "from tqdm.notebook import tqdm\n",
    "\n",
    "parent_dir = os.path.split(os.getcwd())[0]\n",
    "if parent_dir not in sys.path:\n",
    "    sys.path.insert(0, parent_dir)\n",
    "\n",
    "from scripts import dl_utils"
   ]
  },
  {
   "cell_type": "code",
   "execution_count": null,
   "metadata": {},
   "outputs": [],
   "source": [
    "center_coord = (-56.71779286811243,-5.806900403219626)\n",
    "num_pixels = 1000\n",
    "\n",
    "START_DATE = '2021-01-01'\n",
    "END_DATE = '2022-01-01'\n",
    "METHOD = 'median'\n",
    "MOSAIC_PERIOD = 4  # the period over which to mosaic image data in months\n",
    "MAX_CLOUD = 0.25  # maximum cloud cover for a tile to be included in the dataset\n",
    "\n",
    "# Convert pixels to degrees. Heuristic, not geographically sound\n",
    "rect_width = np.round((num_pixels / 100) / 111.32, 4)    \n",
    "polygons = [dl_utils.rect_from_point(center_coord, rect_width)]\n",
    "\n",
    "patches = []\n",
    "patch_dates = []\n",
    "progress_counter = 0"
   ]
  },
  {
   "cell_type": "code",
   "execution_count": null,
   "metadata": {},
   "outputs": [],
   "source": [
    "for polygon in tqdm(polygons[progress_counter:]):\n",
    "    try:\n",
    "        data = dl_utils.SentinelData(polygon, START_DATE, END_DATE, MOSAIC_PERIOD, method=METHOD)\n",
    "        rect_width = rect_width\n",
    "        data.search_scenes()\n",
    "        if len(data.scenes) > 0:\n",
    "            data.download_scenes()\n",
    "            data.create_composites()\n",
    "            composites = data.composites\n",
    "            dates = data.composite_dates\n",
    "            bounds = data.metadata[0][\"wgs84Extent\"][\"coordinates\"][0][:-1]\n",
    "            data.compute_cloud_fraction()\n",
    "            patches += [p for p, cloud in zip(composites, data.cloud_fraction) if cloud < MAX_CLOUD]\n",
    "            patch_dates += [d for d, cloud in zip(dates, data.cloud_fraction) if cloud < MAX_CLOUD]\n",
    "        else:\n",
    "            print(\"No cloud-free scenes found\")\n",
    "    except KeyboardInterrupt:\n",
    "        print(\"Keyboard Interrupt!\")\n",
    "        break\n",
    "    except Exception as e:\n",
    "        print('Failure', polygon)\n",
    "        print(e)\n",
    "    progress_counter += 1"
   ]
  },
  {
   "cell_type": "code",
   "execution_count": null,
   "metadata": {},
   "outputs": [],
   "source": [
    "plt.figure(figsize=(len(composites) * 3, 3), dpi=250, facecolor=(1,1,1))\n",
    "for i in range(len(composites)):\n",
    "    plt.subplot(1,len(composites),i +1)\n",
    "    plt.imshow(np.clip(composites[i][:,:,3:0:-1] / 3000, 0, 1))\n",
    "    plt.title(f'{dates[i]}')\n",
    "    plt.axis('off')\n",
    "plt.suptitle(f'Composites - {center_coord[0]:.3f}, {center_coord[1]:.3f}')\n",
    "plt.tight_layout()\n",
    "plt.savefig(f'../figures/example images {num_pixels}px - {center_coord[0]:.3f}, {center_coord[1]:.3f} - {START_DATE} - {END_DATE}.png')\n",
    "plt.show()"
   ]
  },
  {
   "cell_type": "code",
   "execution_count": null,
   "metadata": {},
   "outputs": [],
   "source": []
  }
 ],
 "metadata": {
  "kernelspec": {
   "display_name": "Python 3.9.7 ('mining-detector')",
   "language": "python",
   "name": "python3"
  },
  "language_info": {
   "codemirror_mode": {
    "name": "ipython",
    "version": 3
   },
   "file_extension": ".py",
   "mimetype": "text/x-python",
   "name": "python",
   "nbconvert_exporter": "python",
   "pygments_lexer": "ipython3",
   "version": "3.9.7"
  },
  "orig_nbformat": 4,
  "vscode": {
   "interpreter": {
    "hash": "bec97cbb607180795486aa419a93884fe3d0b55501c3e5098d64200fe61c3ffb"
   }
  }
 },
 "nbformat": 4,
 "nbformat_minor": 2
}
